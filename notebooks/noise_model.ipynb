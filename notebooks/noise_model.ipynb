{
 "cells": [
  {
   "attachments": {},
   "cell_type": "markdown",
   "metadata": {},
   "source": [
    "# Noise Evaluation\n",
    "\n",
    "This notebook demonstrates few tasks one can do with the noise model entities."
   ]
  },
  {
   "cell_type": "code",
   "execution_count": 1,
   "metadata": {},
   "outputs": [
    {
     "name": "stdout",
     "output_type": "stream",
     "text": [
      "The autoreload extension is already loaded. To reload it, use:\n",
      "  %reload_ext autoreload\n"
     ]
    }
   ],
   "source": [
    "%load_ext autoreload\n",
    "%autoreload 2"
   ]
  },
  {
   "cell_type": "code",
   "execution_count": 2,
   "metadata": {},
   "outputs": [],
   "source": [
    "import numpy as np"
   ]
  },
  {
   "cell_type": "code",
   "execution_count": 3,
   "metadata": {},
   "outputs": [],
   "source": [
    "from enum import Enum"
   ]
  },
  {
   "cell_type": "code",
   "execution_count": 4,
   "metadata": {},
   "outputs": [],
   "source": [
    "from ase.envs.graph import Graph\n",
    "from ase.actors.graph import GraphActor, GraphAction\n",
    "from ase.tools.noise import UniformNoiseModel\n",
    "from ase.tools.order import Order"
   ]
  },
  {
   "attachments": {},
   "cell_type": "markdown",
   "metadata": {},
   "source": [
    "## Posterior Sampling\n",
    "\n",
    "In this section, we demonstrate the posterior sampling from the noise model. The goal is to sample a corresponding noise to the realized sample of the given probability distribution. We repeat the experiment several times, thus trying to eliminate any potentially flaky results.\n",
    "\n",
    "### Proof of Concept\n",
    "\n",
    "For a naive test of posterior sampling, we hard-code a probability distribution and repeatedly generate samples from it. Then, for each generated sample, we sample a corresponding noise instance and ensure sampling from the new noise corresponds to the realised observation."
   ]
  },
  {
   "cell_type": "code",
   "execution_count": 5,
   "metadata": {},
   "outputs": [],
   "source": [
    "num_repeats = 100\n",
    "distribution = [0.1, 0.25, 0.45, 0.2]"
   ]
  },
  {
   "cell_type": "code",
   "execution_count": 6,
   "metadata": {},
   "outputs": [],
   "source": [
    "for i in range(num_repeats):\n",
    "    realised = np.random.choice(range(len(distribution)), p=distribution)\n",
    "\n",
    "    noise = UniformNoiseModel()\n",
    "    noise = noise.sample_posterior(probs=distribution, realised=realised)\n",
    "\n",
    "    assert realised == noise.choice(distribution)"
   ]
  },
  {
   "attachments": {},
   "cell_type": "markdown",
   "metadata": {},
   "source": [
    "### Trajectory Sampling\n",
    "\n",
    "For a more advanced version of posterior sampling, we turn our attention to the toy graph environment. To validate the correctness of implementation, we follow the steps:\n",
    "1. We sample a trajectory;\n",
    "2. We sample new noise from the posterior, conditioning on the trajectory;\n",
    "3. Using the new noise, we sample another trajectory;\n",
    "4. We ensure that the sampled trajectory matches the original trajectory.\n",
    "\n",
    "The noise-sampling procedure also has internal asserts that (partially) ensure the correctness of the implementation."
   ]
  },
  {
   "cell_type": "code",
   "execution_count": 7,
   "metadata": {},
   "outputs": [],
   "source": [
    "num_repeats = 100\n",
    "order = Order([GraphAction.up.value, GraphAction.down.value, GraphAction.straight.value])\n",
    "env = Graph(num_agents=6, num_levels=3, num_columns=3, act_noise_model=UniformNoiseModel(order=order))\n",
    "agents = [GraphActor(id=id) for id in range(env.num_agents)]"
   ]
  },
  {
   "cell_type": "code",
   "execution_count": 8,
   "metadata": {},
   "outputs": [],
   "source": [
    "for i in range(num_repeats):\n",
    "    traj = env.sample_trajectory(agents)\n",
    "    act_noise, env_noise = env.sample_noise_from_posterior(trajectory=traj, agents=agents)\n",
    "    traj_counterfactual = env.sample_trajectory(agents=agents, act_noise=act_noise, env_noise=env_noise, initial_state=traj.states[0])\n",
    "    assert traj.states == traj_counterfactual.states"
   ]
  },
  {
   "cell_type": "markdown",
   "metadata": {},
   "source": [
    "Finally, we ensure that generated counterfactual trajectory matches when the assumed order is wrong."
   ]
  },
  {
   "cell_type": "code",
   "execution_count": 9,
   "metadata": {},
   "outputs": [],
   "source": [
    "# sample trajectories with correct total order\n",
    "order = Order([GraphAction.up.value, GraphAction.down.value, GraphAction.straight.value])\n",
    "env_true = Graph(num_agents=6, num_levels=3, num_columns=3, act_noise_model=UniformNoiseModel(order=order))\n",
    "trajectories = [env_true.sample_trajectory(agents) for _ in range(num_repeats)]"
   ]
  },
  {
   "cell_type": "code",
   "execution_count": 10,
   "metadata": {},
   "outputs": [],
   "source": [
    "for i in range(num_repeats):\n",
    "    # shuffle the order\n",
    "    shuffled_order = [GraphAction.up.value, GraphAction.down.value, GraphAction.straight.value]\n",
    "    np.random.shuffle(shuffled_order)\n",
    "    shuffled_order = Order(shuffled_order)\n",
    "\n",
    "    # create the environment with shuffled order\n",
    "    env = Graph(num_agents=6, num_levels=3, num_columns=3, act_noise_model=UniformNoiseModel(order=shuffled_order))\n",
    "   \n",
    "    # sample counterfactual trajectory\n",
    "    traj = trajectories[i]\n",
    "    act_noise, env_noise = env.sample_noise_from_posterior(trajectory=traj, agents=agents)\n",
    "    traj_counterfactual = env.sample_trajectory(agents=agents, act_noise=act_noise, env_noise=env_noise, initial_state=traj.states[0])\n",
    "    assert traj.states == traj_counterfactual.states"
   ]
  },
  {
   "cell_type": "markdown",
   "metadata": {},
   "source": [
    "## Noise Monotonicity\n",
    "\n",
    "In this section, we demonstrate the noise-monotonic property w.r.t. a given total order."
   ]
  },
  {
   "cell_type": "code",
   "execution_count": 11,
   "metadata": {},
   "outputs": [],
   "source": [
    "class Fruit(int, Enum):\n",
    "    apple = 0\n",
    "    banana = 1\n",
    "    strawberry = 2\n",
    "    grapes = 3"
   ]
  },
  {
   "cell_type": "code",
   "execution_count": 12,
   "metadata": {},
   "outputs": [],
   "source": [
    "num_repeats = 5\n",
    "distribution = [0.1, 0.25, 0.45, 0.2]\n",
    "order = Order([Fruit.strawberry.value, Fruit.apple.value, Fruit.grapes.value, Fruit.banana.value])"
   ]
  },
  {
   "cell_type": "code",
   "execution_count": 13,
   "metadata": {},
   "outputs": [],
   "source": [
    "for i in range(num_repeats):\n",
    "    noise = UniformNoiseModel(order=order)\n",
    "    noise_1 = noise.sample()\n",
    "    noise_2 = noise.sample()\n",
    "\n",
    "    if noise_1.noise < noise_2.noise:\n",
    "        assert order.compare(noise_1.choice(probs=distribution), noise_2.choice(probs=distribution)) <= 0\n",
    "    if noise_1.noise > noise_2.noise:\n",
    "        assert order.compare(noise_1.choice(probs=distribution), noise_2.choice(probs=distribution)) >= 0"
   ]
  }
 ],
 "metadata": {
  "kernelspec": {
   "display_name": "mpi-ase",
   "language": "python",
   "name": "python3"
  },
  "language_info": {
   "codemirror_mode": {
    "name": "ipython",
    "version": 3
   },
   "file_extension": ".py",
   "mimetype": "text/x-python",
   "name": "python",
   "nbconvert_exporter": "python",
   "pygments_lexer": "ipython3",
   "version": "3.9.13"
  },
  "orig_nbformat": 4
 },
 "nbformat": 4,
 "nbformat_minor": 2
}
